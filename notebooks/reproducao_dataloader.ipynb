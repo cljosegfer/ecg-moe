{
 "cells": [
  {
   "cell_type": "markdown",
   "metadata": {},
   "source": [
    "# setup"
   ]
  },
  {
   "cell_type": "code",
   "execution_count": 1,
   "metadata": {},
   "outputs": [],
   "source": [
    "import torch\n",
    "import matplotlib.pyplot as plt\n",
    "import os"
   ]
  },
  {
   "cell_type": "code",
   "execution_count": 2,
   "metadata": {},
   "outputs": [],
   "source": [
    "if os.getcwd().split('/')[-1] == 'notebooks':\n",
    "    os.chdir('..')\n",
    "\n",
    "from data.load_data import LoadData\n",
    "# from configs.gate import LoadDataConfig\n",
    "# from configs.baseline import LoadDataConfig\n",
    "from configs.fake import LoadDataConfig\n",
    "from utils import get_inputs"
   ]
  },
  {
   "cell_type": "markdown",
   "metadata": {},
   "source": [
    "# init"
   ]
  },
  {
   "cell_type": "code",
   "execution_count": 3,
   "metadata": {},
   "outputs": [],
   "source": [
    "loader_config = LoadDataConfig()"
   ]
  },
  {
   "cell_type": "code",
   "execution_count": 4,
   "metadata": {},
   "outputs": [
    {
     "name": "stdout",
     "output_type": "stream",
     "text": [
      "--> WARNING: USING RANDOM FAKE DATA!!\n"
     ]
    }
   ],
   "source": [
    "dataloader = LoadData(**loader_config.__dict__)\n",
    "device = torch.device('cuda' if torch.cuda.is_available() else 'cpu')"
   ]
  },
  {
   "cell_type": "markdown",
   "metadata": {},
   "source": [
    "# data"
   ]
  },
  {
   "cell_type": "code",
   "execution_count": 5,
   "metadata": {},
   "outputs": [],
   "source": [
    "train_dl = dataloader.get_train_dataloader()\n",
    "val_dl = dataloader.get_val_dataloader()\n",
    "test_dl = dataloader.get_test_dataloader()"
   ]
  },
  {
   "cell_type": "code",
   "execution_count": 6,
   "metadata": {},
   "outputs": [
    {
     "data": {
      "text/plain": [
       "(4, 2, 2)"
      ]
     },
     "execution_count": 6,
     "metadata": {},
     "output_type": "execute_result"
    }
   ],
   "source": [
    "train_dl.dataset_size, val_dl.dataset_size, test_dl.dataset_size"
   ]
  },
  {
   "cell_type": "code",
   "execution_count": 7,
   "metadata": {},
   "outputs": [],
   "source": [
    "for train_batch in (train_dl):\n",
    "    raw, exam_id, label = train_batch\n",
    "    ecg = get_inputs(raw).to(device)\n",
    "    label = label.to(device).float()\n",
    "    break"
   ]
  },
  {
   "cell_type": "code",
   "execution_count": 8,
   "metadata": {},
   "outputs": [
    {
     "data": {
      "text/plain": [
       "(torch.Size([2, 4096, 12]),\n",
       " tensor([[[-3.4788, -1.8564,  1.6224,  ..., -0.2184,  2.4258,  1.8915],\n",
       "          [-3.4632, -1.8798,  1.5834,  ..., -0.2106,  2.4414,  1.9110],\n",
       "          [-3.4515, -1.8330,  1.6185,  ..., -0.2301,  2.4258,  1.8993],\n",
       "          ...,\n",
       "          [ 0.0000,  0.0000,  0.0000,  ...,  0.0000,  0.0000,  0.0000],\n",
       "          [ 0.0000,  0.0000,  0.0000,  ...,  0.0000,  0.0000,  0.0000],\n",
       "          [ 0.0000,  0.0000,  0.0000,  ...,  0.0000,  0.0000,  0.0000]],\n",
       " \n",
       "         [[ 0.0700, -0.0500, -0.1200,  ..., -0.0600, -0.0650, -0.0450],\n",
       "          [ 0.0650, -0.0500, -0.1150,  ..., -0.0650, -0.0700, -0.0500],\n",
       "          [ 0.0750, -0.0600, -0.1350,  ..., -0.0700, -0.0700, -0.0500],\n",
       "          ...,\n",
       "          [ 0.0000,  0.0000,  0.0000,  ...,  0.0000,  0.0000,  0.0000],\n",
       "          [ 0.0000,  0.0000,  0.0000,  ...,  0.0000,  0.0000,  0.0000],\n",
       "          [ 0.0000,  0.0000,  0.0000,  ...,  0.0000,  0.0000,  0.0000]]]))"
      ]
     },
     "execution_count": 8,
     "metadata": {},
     "output_type": "execute_result"
    }
   ],
   "source": [
    "raw.shape, raw"
   ]
  },
  {
   "cell_type": "code",
   "execution_count": 9,
   "metadata": {},
   "outputs": [
    {
     "data": {
      "text/plain": [
       "(torch.Size([2, 12, 2560]),\n",
       " tensor([[[-2.9172, -2.9094, -2.8977,  ..., -0.9555, -0.9594, -0.9633],\n",
       "          [-1.5873, -1.5444, -1.5795,  ..., -0.6591, -0.6630, -0.6864],\n",
       "          [ 1.3299,  1.3650,  1.3182,  ...,  0.2964,  0.2964,  0.2769],\n",
       "          ...,\n",
       "          [-1.4742, -1.4937, -1.4859,  ..., -2.7963, -2.7963, -2.8002],\n",
       "          [ 1.8096,  1.7862,  1.7979,  ...,  0.7839,  0.7878,  0.7878],\n",
       "          [ 1.4430,  1.4235,  1.4391,  ...,  0.4134,  0.4212,  0.4212]],\n",
       " \n",
       "         [[ 0.0250,  0.0250,  0.0050,  ...,  0.0000,  0.0000,  0.0000],\n",
       "          [-0.0050, -0.0050, -0.0050,  ...,  0.0000,  0.0000,  0.0000],\n",
       "          [-0.0300, -0.0300, -0.0100,  ...,  0.0000,  0.0000,  0.0000],\n",
       "          ...,\n",
       "          [ 0.0350,  0.0350,  0.0350,  ...,  0.0000,  0.0000,  0.0000],\n",
       "          [ 0.0000,  0.0000,  0.0150,  ...,  0.0000,  0.0000,  0.0000],\n",
       "          [ 0.0050,  0.0100,  0.0050,  ...,  0.0000,  0.0000,  0.0000]]],\n",
       "        device='cuda:0'))"
      ]
     },
     "execution_count": 9,
     "metadata": {},
     "output_type": "execute_result"
    }
   ],
   "source": [
    "ecg.shape, ecg"
   ]
  },
  {
   "cell_type": "code",
   "execution_count": 10,
   "metadata": {},
   "outputs": [
    {
     "data": {
      "text/plain": [
       "((2,), array([ 247003, 2678117], dtype=int32))"
      ]
     },
     "execution_count": 10,
     "metadata": {},
     "output_type": "execute_result"
    }
   ],
   "source": [
    "exam_id.shape, exam_id"
   ]
  },
  {
   "cell_type": "code",
   "execution_count": 11,
   "metadata": {},
   "outputs": [
    {
     "data": {
      "text/plain": [
       "(torch.Size([2, 6]),\n",
       " tensor([[0., 0., 0., 0., 0., 0.],\n",
       "         [0., 0., 0., 0., 0., 0.]], device='cuda:0'))"
      ]
     },
     "execution_count": 11,
     "metadata": {},
     "output_type": "execute_result"
    }
   ],
   "source": [
    "label.shape, label"
   ]
  },
  {
   "cell_type": "code",
   "execution_count": null,
   "metadata": {},
   "outputs": [],
   "source": []
  }
 ],
 "metadata": {
  "kernelspec": {
   "display_name": "clip",
   "language": "python",
   "name": "python3"
  },
  "language_info": {
   "codemirror_mode": {
    "name": "ipython",
    "version": 3
   },
   "file_extension": ".py",
   "mimetype": "text/x-python",
   "name": "python",
   "nbconvert_exporter": "python",
   "pygments_lexer": "ipython3",
   "version": "3.8.8"
  }
 },
 "nbformat": 4,
 "nbformat_minor": 2
}
