{
 "cells": [
  {
   "cell_type": "markdown",
   "metadata": {},
   "source": [
    "# setup"
   ]
  },
  {
   "cell_type": "code",
   "execution_count": 1,
   "metadata": {},
   "outputs": [],
   "source": [
    "import torch\n",
    "import os"
   ]
  },
  {
   "cell_type": "code",
   "execution_count": 2,
   "metadata": {},
   "outputs": [],
   "source": [
    "if os.getcwd().split('/')[-1] == 'notebooks':\n",
    "    os.chdir('..')\n",
    "\n",
    "# from configs.baseline import LoadDataConfig, Downstream_cnn_args\n",
    "# from configs.gate import LoadDataConfig, Downstream_cnn_args\n",
    "from configs.fake import LoadDataConfig, Downstream_cnn_args\n",
    "from data.load_data import LoadData\n",
    "from models.baseline import ResnetBaseline\n",
    "from configs.moe import MoE_cnn_args\n",
    "from models.moe import ResnetMoE\n",
    "from utils import synthesis"
   ]
  },
  {
   "cell_type": "markdown",
   "metadata": {},
   "source": [
    "# init"
   ]
  },
  {
   "cell_type": "code",
   "execution_count": 3,
   "metadata": {},
   "outputs": [],
   "source": [
    "# model_label = 'gate'\n",
    "model_label = 'moe'"
   ]
  },
  {
   "cell_type": "code",
   "execution_count": 4,
   "metadata": {},
   "outputs": [],
   "source": [
    "loader_config = LoadDataConfig()\n",
    "resnet_config = Downstream_cnn_args()\n",
    "moe_config = MoE_cnn_args()"
   ]
  },
  {
   "cell_type": "code",
   "execution_count": 5,
   "metadata": {},
   "outputs": [
    {
     "name": "stdout",
     "output_type": "stream",
     "text": [
      "--> WARNING: USING RANDOM FAKE DATA!!\n"
     ]
    }
   ],
   "source": [
    "dataloader = LoadData(**loader_config.__dict__)\n",
    "if model_label == 'gate':\n",
    "    reference = ResnetBaseline(**resnet_config.__dict__)\n",
    "if model_label == 'moe':\n",
    "    reference = ResnetMoE(**moe_config.__dict__)\n",
    "\n",
    "device = torch.device('cuda' if torch.cuda.is_available() else 'cpu')"
   ]
  },
  {
   "cell_type": "markdown",
   "metadata": {},
   "source": [
    "# threshould"
   ]
  },
  {
   "cell_type": "code",
   "execution_count": 6,
   "metadata": {},
   "outputs": [],
   "source": [
    "model = torch.load('output/{}.pt'.format(model_label))\n",
    "assert model.state_dict().keys() == reference.state_dict().keys()\n",
    "model = model.to(device)"
   ]
  },
  {
   "cell_type": "code",
   "execution_count": 7,
   "metadata": {},
   "outputs": [
    {
     "name": "stderr",
     "output_type": "stream",
     "text": [
      "  0%|          | 0/1 [00:00<?, ?it/s]\n"
     ]
    },
    {
     "ename": "IndexError",
     "evalue": "index 3 is out of bounds for dimension 1 with size 3",
     "output_type": "error",
     "traceback": [
      "\u001b[0;31m---------------------------------------------------------------------------\u001b[0m",
      "\u001b[0;31mIndexError\u001b[0m                                Traceback (most recent call last)",
      "Cell \u001b[0;32mIn[7], line 2\u001b[0m\n\u001b[1;32m      1\u001b[0m val_dl \u001b[38;5;241m=\u001b[39m dataloader\u001b[38;5;241m.\u001b[39mget_val_dataloader()\n\u001b[0;32m----> 2\u001b[0m best_f1s, best_thresholds \u001b[38;5;241m=\u001b[39m \u001b[43msynthesis\u001b[49m\u001b[43m(\u001b[49m\u001b[43mmodel\u001b[49m\u001b[43m,\u001b[49m\u001b[43m \u001b[49m\u001b[43mval_dl\u001b[49m\u001b[43m,\u001b[49m\u001b[43m \u001b[49m\u001b[38;5;28;43;01mNone\u001b[39;49;00m\u001b[43m,\u001b[49m\u001b[43m \u001b[49m\u001b[43mdevice\u001b[49m\u001b[43m)\u001b[49m\n\u001b[1;32m      3\u001b[0m best_f1s, best_thresholds\n",
      "File \u001b[0;32m~/ecg-moe/utils.py:92\u001b[0m, in \u001b[0;36msynthesis\u001b[0;34m(model, loader, thresholds, device)\u001b[0m\n\u001b[1;32m     90\u001b[0m \u001b[38;5;28;01mfor\u001b[39;00m class_idx \u001b[38;5;129;01min\u001b[39;00m \u001b[38;5;28mrange\u001b[39m(num_classes):\n\u001b[1;32m     91\u001b[0m     \u001b[38;5;28;01mfor\u001b[39;00m thresh \u001b[38;5;129;01min\u001b[39;00m delta:\n\u001b[0;32m---> 92\u001b[0m         predicted_binary \u001b[38;5;241m=\u001b[39m (\u001b[43mprobs\u001b[49m\u001b[43m[\u001b[49m\u001b[43m:\u001b[49m\u001b[43m,\u001b[49m\u001b[43m \u001b[49m\u001b[43mclass_idx\u001b[49m\u001b[43m]\u001b[49m \u001b[38;5;241m>\u001b[39m\u001b[38;5;241m=\u001b[39m thresh)\u001b[38;5;241m.\u001b[39mfloat()\n\u001b[1;32m     93\u001b[0m         predictions[thresh][class_idx]\u001b[38;5;241m.\u001b[39mextend(\n\u001b[1;32m     94\u001b[0m             predicted_binary\u001b[38;5;241m.\u001b[39mcpu()\u001b[38;5;241m.\u001b[39mnumpy()\n\u001b[1;32m     95\u001b[0m         )\n\u001b[1;32m     96\u001b[0m     true_labels_dict[class_idx]\u001b[38;5;241m.\u001b[39mextend(\n\u001b[1;32m     97\u001b[0m         label[:, class_idx]\u001b[38;5;241m.\u001b[39mcpu()\u001b[38;5;241m.\u001b[39mnumpy()\n\u001b[1;32m     98\u001b[0m     )\n",
      "\u001b[0;31mIndexError\u001b[0m: index 3 is out of bounds for dimension 1 with size 3"
     ]
    }
   ],
   "source": [
    "val_dl = dataloader.get_val_dataloader()\n",
    "best_f1s, best_thresholds = synthesis(model, val_dl, None, device)\n",
    "best_f1s, best_thresholds"
   ]
  },
  {
   "cell_type": "markdown",
   "metadata": {},
   "source": [
    "# test"
   ]
  },
  {
   "cell_type": "code",
   "execution_count": null,
   "metadata": {},
   "outputs": [
    {
     "name": "stderr",
     "output_type": "stream",
     "text": [
      "100%|██████████| 1/1 [00:00<00:00, 45.63it/s]\n"
     ]
    },
    {
     "data": {
      "text/plain": [
       "{'Accuracy': [0.0, 0.0, 0.0, 0.0, 0.0, 0.0],\n",
       " 'Precision': [0.0, 0.0, 0.0, 0.0, 0.0, 0.0],\n",
       " 'Recall': [0.0, 0.0, 0.0, 0.0, 0.0, 0.0],\n",
       " 'F1 Score': [0.0, 0.0, 0.0, 0.0, 0.0, 0.0]}"
      ]
     },
     "execution_count": 8,
     "metadata": {},
     "output_type": "execute_result"
    }
   ],
   "source": [
    "test_dl = dataloader.get_test_dataloader()\n",
    "all_binary_results, all_true_labels, metrics_dict = synthesis(model, test_dl, best_thresholds, device)\n",
    "metrics_dict"
   ]
  }
 ],
 "metadata": {
  "kernelspec": {
   "display_name": "clip",
   "language": "python",
   "name": "python3"
  },
  "language_info": {
   "codemirror_mode": {
    "name": "ipython",
    "version": 3
   },
   "file_extension": ".py",
   "mimetype": "text/x-python",
   "name": "python",
   "nbconvert_exporter": "python",
   "pygments_lexer": "ipython3",
   "version": "3.8.8"
  }
 },
 "nbformat": 4,
 "nbformat_minor": 2
}
