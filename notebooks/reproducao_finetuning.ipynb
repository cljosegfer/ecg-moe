{
 "cells": [
  {
   "cell_type": "markdown",
   "metadata": {},
   "source": [
    "# setup"
   ]
  },
  {
   "cell_type": "code",
   "execution_count": 1,
   "metadata": {},
   "outputs": [],
   "source": [
    "import torch\n",
    "import torch.nn as nn\n",
    "import os"
   ]
  },
  {
   "cell_type": "code",
   "execution_count": 2,
   "metadata": {},
   "outputs": [],
   "source": [
    "if os.getcwd().split('/')[-1] == 'notebooks':\n",
    "    os.chdir('..')\n",
    "\n",
    "# from configs.baseline import LoadDataConfig\n",
    "from configs.fake import LoadDataConfig\n",
    "from configs.moe import MoE_cnn_args\n",
    "from data.load_data import LoadData\n",
    "from models.moe import ResnetMoE\n",
    "from utils import train, eval, plot_log, export"
   ]
  },
  {
   "cell_type": "markdown",
   "metadata": {},
   "source": [
    "# init"
   ]
  },
  {
   "cell_type": "code",
   "execution_count": 3,
   "metadata": {},
   "outputs": [],
   "source": [
    "model_label = 'moe'"
   ]
  },
  {
   "cell_type": "code",
   "execution_count": 4,
   "metadata": {},
   "outputs": [],
   "source": [
    "loader_config = LoadDataConfig()\n",
    "moe_config = MoE_cnn_args()"
   ]
  },
  {
   "cell_type": "code",
   "execution_count": 5,
   "metadata": {},
   "outputs": [
    {
     "name": "stdout",
     "output_type": "stream",
     "text": [
      "--> WARNING: USING RANDOM FAKE DATA!!\n"
     ]
    }
   ],
   "source": [
    "dataloader = LoadData(**loader_config.__dict__)\n",
    "# model = ResnetMoE(**moe_config.__dict__)\n",
    "model = torch.load('output/pretrained_moe.pt')\n",
    "\n",
    "device = torch.device('cuda' if torch.cuda.is_available() else 'cpu')\n",
    "\n",
    "EPOCHS = 5 + 1"
   ]
  },
  {
   "cell_type": "markdown",
   "metadata": {},
   "source": [
    "# train"
   ]
  },
  {
   "cell_type": "code",
   "execution_count": 6,
   "metadata": {},
   "outputs": [],
   "source": [
    "model = model.to(device)\n",
    "criterion = nn.BCEWithLogitsLoss()\n",
    "optimizer = torch.optim.AdamW(model.parameters(), lr=3e-4)"
   ]
  },
  {
   "cell_type": "code",
   "execution_count": 7,
   "metadata": {},
   "outputs": [
    {
     "name": "stderr",
     "output_type": "stream",
     "text": [
      "100%|██████████| 2/2 [00:00<00:00,  2.54it/s]\n",
      "100%|██████████| 1/1 [00:00<00:00, 30.57it/s]\n"
     ]
    },
    {
     "name": "stdout",
     "output_type": "stream",
     "text": [
      "exporting partial model at epoch 5\n"
     ]
    }
   ],
   "source": [
    "log = []\n",
    "for epoch in range(5, EPOCHS):\n",
    "    train_dl, val_dl = dataloader.get_train_dataloader(), dataloader.get_val_dataloader()\n",
    "\n",
    "    train_log = train(model, train_dl, optimizer, criterion, device)\n",
    "    val_log = eval(model, val_dl, criterion, device)\n",
    "    plot_log(train_log, val_log, epoch = epoch)\n",
    "    export(model, model_label, epoch)"
   ]
  },
  {
   "cell_type": "code",
   "execution_count": 8,
   "metadata": {},
   "outputs": [],
   "source": [
    "torch.save(model, 'output/{}.pt'.format(model_label))"
   ]
  }
 ],
 "metadata": {
  "kernelspec": {
   "display_name": "clip",
   "language": "python",
   "name": "python3"
  },
  "language_info": {
   "codemirror_mode": {
    "name": "ipython",
    "version": 3
   },
   "file_extension": ".py",
   "mimetype": "text/x-python",
   "name": "python",
   "nbconvert_exporter": "python",
   "pygments_lexer": "ipython3",
   "version": "3.8.8"
  }
 },
 "nbformat": 4,
 "nbformat_minor": 2
}
