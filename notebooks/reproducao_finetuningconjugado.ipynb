{
 "cells": [
  {
   "cell_type": "markdown",
   "metadata": {},
   "source": [
    "# setup"
   ]
  },
  {
   "cell_type": "code",
   "execution_count": 51,
   "metadata": {},
   "outputs": [],
   "source": [
    "import torch\n",
    "import torch.nn as nn\n",
    "import os"
   ]
  },
  {
   "cell_type": "code",
   "execution_count": 52,
   "metadata": {},
   "outputs": [],
   "source": [
    "if os.getcwd().split('/')[-1] == 'notebooks':\n",
    "    os.chdir('..')\n",
    "\n",
    "# from configs.baseline import LoadDataConfig\n",
    "from configs.fake import LoadDataConfig\n",
    "from configs.moe import MoE_cnn_args\n",
    "from data.load_data import LoadData\n",
    "from models.moe import ResnetMoE\n",
    "from utils import train, eval, plot_log, export"
   ]
  },
  {
   "cell_type": "markdown",
   "metadata": {},
   "source": [
    "# init"
   ]
  },
  {
   "cell_type": "code",
   "execution_count": 53,
   "metadata": {},
   "outputs": [],
   "source": [
    "model_label = 'moe'"
   ]
  },
  {
   "cell_type": "code",
   "execution_count": 54,
   "metadata": {},
   "outputs": [],
   "source": [
    "loader_config = LoadDataConfig()\n",
    "moe_config = MoE_cnn_args()"
   ]
  },
  {
   "cell_type": "code",
   "execution_count": 55,
   "metadata": {},
   "outputs": [
    {
     "name": "stdout",
     "output_type": "stream",
     "text": [
      "--> WARNING: USING RANDOM FAKE DATA!!\n"
     ]
    }
   ],
   "source": [
    "dataloader = LoadData(**loader_config.__dict__)\n",
    "# model = ResnetMoE(**moe_config.__dict__)\n",
    "model = torch.load('output/pretrained_moe.pt')\n",
    "\n",
    "device = torch.device('cuda' if torch.cuda.is_available() else 'cpu')\n",
    "\n",
    "EPOCHS = 5"
   ]
  },
  {
   "cell_type": "markdown",
   "metadata": {},
   "source": [
    "# train"
   ]
  },
  {
   "cell_type": "code",
   "execution_count": 56,
   "metadata": {},
   "outputs": [],
   "source": [
    "SIGNAL_CROP_LEN = 2560\n",
    "SIGNAL_NON_ZERO_START = 571\n",
    "\n",
    "def get_inputs_conjugado(batch, label, apply = \"non_zero\", device = \"cuda\"):\n",
    "    # (B, C, L)\n",
    "    if batch.shape[1] > batch.shape[2]:\n",
    "        batch = batch.permute(0, 2, 1)\n",
    "\n",
    "    B, n_leads, signal_len = batch.shape\n",
    "\n",
    "    if apply == \"non_zero\":\n",
    "        transformed_data = torch.zeros(B, n_leads, SIGNAL_CROP_LEN)\n",
    "        for b in range(B):\n",
    "            start = SIGNAL_NON_ZERO_START\n",
    "            diff = signal_len - start\n",
    "            if start > diff:\n",
    "                correction = start - diff\n",
    "                start -= correction\n",
    "            end = start + SIGNAL_CROP_LEN\n",
    "            for l in range(n_leads):\n",
    "                transformed_data[b, l, :] = batch[b, l, start:end]\n",
    "\n",
    "    else:\n",
    "        transformed_data = batch\n",
    "    \n",
    "    block = torch.tensor([label[i, :3].any() for i in range(label.shape[0])])\n",
    "    rhythm = torch.tensor([label[i, 3:].any() for i in range(label.shape[0])])\n",
    "    normal = torch.tensor([not label[i, :].any() for i in range(label.shape[0])])\n",
    "    superlabel = torch.stack((block, rhythm, normal)).T\n",
    "\n",
    "    return transformed_data.to(device), superlabel.to(device).float()"
   ]
  },
  {
   "cell_type": "code",
   "execution_count": 57,
   "metadata": {},
   "outputs": [],
   "source": [
    "from tqdm import tqdm\n",
    "\n",
    "def train_conjugado(model, loader, optimizer, criterion, device = \"cuda\"):\n",
    "    log = []\n",
    "    model.train()\n",
    "    for batch in tqdm(loader):\n",
    "        raw, exam_id, label = batch\n",
    "        ecg, superlabel = get_inputs_conjugado(raw, label)\n",
    "        label = label.to(device).float()\n",
    "\n",
    "        logits = model.forward(ecg)\n",
    "        g = model.gate.forward(ecg)\n",
    "        loss = criterion(logits, label) + criterion(g, superlabel)\n",
    "\n",
    "        optimizer.zero_grad()\n",
    "        loss.backward()\n",
    "        optimizer.step()\n",
    "\n",
    "        log.append(loss.item())\n",
    "    return log"
   ]
  },
  {
   "cell_type": "code",
   "execution_count": 58,
   "metadata": {},
   "outputs": [],
   "source": [
    "model = model.to(device)\n",
    "criterion = nn.BCEWithLogitsLoss()\n",
    "optimizer = torch.optim.AdamW(model.parameters(), lr=3e-4)"
   ]
  },
  {
   "cell_type": "code",
   "execution_count": 59,
   "metadata": {},
   "outputs": [
    {
     "name": "stderr",
     "output_type": "stream",
     "text": [
      "  0%|          | 0/2 [00:00<?, ?it/s]"
     ]
    },
    {
     "name": "stderr",
     "output_type": "stream",
     "text": [
      "100%|██████████| 2/2 [00:00<00:00, 17.89it/s]\n",
      "100%|██████████| 1/1 [00:00<00:00, 102.55it/s]\n"
     ]
    },
    {
     "name": "stdout",
     "output_type": "stream",
     "text": [
      "exporting partial model at epoch 0\n"
     ]
    },
    {
     "name": "stderr",
     "output_type": "stream",
     "text": [
      "100%|██████████| 2/2 [00:00<00:00, 19.48it/s]\n",
      "100%|██████████| 1/1 [00:00<00:00, 104.44it/s]\n",
      "  0%|          | 0/2 [00:00<?, ?it/s]"
     ]
    },
    {
     "name": "stdout",
     "output_type": "stream",
     "text": [
      "exporting partial model at epoch 1\n"
     ]
    },
    {
     "name": "stderr",
     "output_type": "stream",
     "text": [
      "100%|██████████| 2/2 [00:00<00:00, 18.66it/s]\n",
      "100%|██████████| 1/1 [00:00<00:00, 103.06it/s]\n",
      "  0%|          | 0/2 [00:00<?, ?it/s]"
     ]
    },
    {
     "name": "stdout",
     "output_type": "stream",
     "text": [
      "exporting partial model at epoch 2\n"
     ]
    },
    {
     "name": "stderr",
     "output_type": "stream",
     "text": [
      "100%|██████████| 2/2 [00:00<00:00, 17.25it/s]\n",
      "100%|██████████| 1/1 [00:00<00:00, 63.29it/s]\n"
     ]
    },
    {
     "name": "stdout",
     "output_type": "stream",
     "text": [
      "exporting partial model at epoch 3\n"
     ]
    },
    {
     "name": "stderr",
     "output_type": "stream",
     "text": [
      "100%|██████████| 2/2 [00:00<00:00, 18.64it/s]\n",
      "100%|██████████| 1/1 [00:00<00:00, 104.39it/s]\n"
     ]
    },
    {
     "name": "stdout",
     "output_type": "stream",
     "text": [
      "exporting partial model at epoch 4\n"
     ]
    }
   ],
   "source": [
    "log = []\n",
    "for epoch in range(EPOCHS):\n",
    "    train_dl, val_dl = dataloader.get_train_dataloader(), dataloader.get_val_dataloader()\n",
    "\n",
    "    train_log = train_conjugado(model, train_dl, optimizer, criterion, device)\n",
    "    val_log = eval(model, val_dl, criterion, device)\n",
    "    plot_log(train_log, val_log, epoch = epoch)\n",
    "    export(model, model_label, epoch)"
   ]
  }
 ],
 "metadata": {
  "kernelspec": {
   "display_name": "clip",
   "language": "python",
   "name": "python3"
  },
  "language_info": {
   "codemirror_mode": {
    "name": "ipython",
    "version": 3
   },
   "file_extension": ".py",
   "mimetype": "text/x-python",
   "name": "python",
   "nbconvert_exporter": "python",
   "pygments_lexer": "ipython3",
   "version": "3.8.8"
  }
 },
 "nbformat": 4,
 "nbformat_minor": 2
}
