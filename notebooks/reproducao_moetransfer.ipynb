{
 "cells": [
  {
   "cell_type": "markdown",
   "metadata": {},
   "source": [
    "# setup"
   ]
  },
  {
   "cell_type": "code",
   "execution_count": 1,
   "metadata": {},
   "outputs": [],
   "source": [
    "import torch\n",
    "import torch.nn as nn\n",
    "import os"
   ]
  },
  {
   "cell_type": "code",
   "execution_count": 2,
   "metadata": {},
   "outputs": [],
   "source": [
    "if os.getcwd().split('/')[-1] == 'notebooks':\n",
    "    os.chdir('..')\n",
    "\n",
    "# from configs.baseline import LoadDataConfig\n",
    "from configs.fake import LoadDataConfig\n",
    "from configs.moe import MoE_cnn_args\n",
    "from data.load_data import LoadData\n",
    "# from models.moe import ResnetMoE\n",
    "from utils import train, eval, plot_log, export"
   ]
  },
  {
   "cell_type": "markdown",
   "metadata": {},
   "source": [
    "# init"
   ]
  },
  {
   "cell_type": "code",
   "execution_count": 3,
   "metadata": {},
   "outputs": [],
   "source": [
    "model_label = 'moe'"
   ]
  },
  {
   "cell_type": "code",
   "execution_count": 4,
   "metadata": {},
   "outputs": [],
   "source": [
    "loader_config = LoadDataConfig()\n",
    "moe_config = MoE_cnn_args()"
   ]
  },
  {
   "cell_type": "code",
   "execution_count": 5,
   "metadata": {},
   "outputs": [
    {
     "name": "stdout",
     "output_type": "stream",
     "text": [
      "--> WARNING: USING RANDOM FAKE DATA!!\n"
     ]
    }
   ],
   "source": [
    "dataloader = LoadData(**loader_config.__dict__)\n",
    "# model = ResnetMoE(**moe_config.__dict__)\n",
    "# model = torch.load('output/pretrained_moe.pt')\n",
    "\n",
    "device = torch.device('cuda' if torch.cuda.is_available() else 'cpu')\n",
    "\n",
    "EPOCHS = 5 + 1"
   ]
  },
  {
   "cell_type": "code",
   "execution_count": 6,
   "metadata": {},
   "outputs": [],
   "source": [
    "# from configs.baseline import Downstream_cnn_args\n",
    "# from models.baseline import ResnetBaseline\n",
    "\n",
    "# resnet_config = Downstream_cnn_args()\n",
    "# expert = ResnetBaseline(**resnet_config.__dict__)\n",
    "# gate = torch.load('output/gate.pt')"
   ]
  },
  {
   "cell_type": "code",
   "execution_count": 7,
   "metadata": {},
   "outputs": [],
   "source": [
    "# from collections import OrderedDict\n",
    "\n",
    "# key_transformation = []\n",
    "# for key in expert.state_dict().keys():\n",
    "#     key_transformation.append(key)"
   ]
  },
  {
   "cell_type": "code",
   "execution_count": 8,
   "metadata": {},
   "outputs": [],
   "source": [
    "# backbone = nn.Sequential(*list(gate.children())[:-1])\n",
    "\n",
    "# state_dict = backbone.state_dict()\n",
    "# new_state_dict = OrderedDict()\n",
    "\n",
    "# for i, (key, value) in enumerate(state_dict.items()):\n",
    "#     new_key = key_transformation[i]\n",
    "#     new_state_dict[new_key] = value"
   ]
  },
  {
   "cell_type": "code",
   "execution_count": 9,
   "metadata": {},
   "outputs": [],
   "source": [
    "# log = expert.load_state_dict(new_state_dict, strict = False)\n",
    "# assert log.missing_keys == ['linear.weight', 'linear.bias']"
   ]
  },
  {
   "cell_type": "code",
   "execution_count": 10,
   "metadata": {},
   "outputs": [],
   "source": [
    "from models.baseline import ResnetBaseline\n",
    "from collections import OrderedDict\n",
    "\n",
    "class ResnetMoE(nn.Module):\n",
    "    def __init__(self, gate_path, resnet_config, n_experts):\n",
    "        super().__init__()\n",
    "\n",
    "        self.gate = torch.load(gate_path)\n",
    "        backbone = self.generate_backbone(resnet_config)\n",
    "        # self.gate = ResnetBaseline(**resnet_config.__dict__)\n",
    "        # n_experts = 6\n",
    "        self.experts = nn.ModuleList()\n",
    "        for _ in range(n_experts):\n",
    "            # self.experts.append(ResnetBaseline(**resnet_config.__dict__))\n",
    "            expert = ResnetBaseline(**resnet_config.__dict__)\n",
    "            log = expert.load_state_dict(backbone, strict = False)\n",
    "            assert log.missing_keys == ['linear.weight', 'linear.bias']\n",
    "            self.experts.append(expert)\n",
    "        self.num_classes = resnet_config.__dict__['n_classes']\n",
    "\n",
    "\n",
    "    def forward(self, x):\n",
    "        g = self.gate.forward(x)\n",
    "        g = torch.sigmoid(g)\n",
    "        logits = [expert.forward(x) for expert in self.experts]\n",
    "\n",
    "        g = g.unsqueeze(1)\n",
    "        g = g.expand(-1, self.num_classes, -1)\n",
    "        logits = torch.stack(logits, dim = 2)\n",
    "        logits = torch.sum(g * logits, dim = 2)\n",
    "\n",
    "        return logits\n",
    "    \n",
    "    def generate_backbone(self, resnet_config):\n",
    "        key_transformation = []\n",
    "        for key in ResnetBaseline(**resnet_config.__dict__).state_dict().keys():\n",
    "            key_transformation.append(key)\n",
    "        \n",
    "        backbone = nn.Sequential(*list(self.gate.children())[:-1])\n",
    "\n",
    "        state_dict = backbone.state_dict()\n",
    "        new_state_dict = OrderedDict()\n",
    "\n",
    "        for i, (key, value) in enumerate(state_dict.items()):\n",
    "            new_key = key_transformation[i]\n",
    "            new_state_dict[new_key] = value\n",
    "        \n",
    "        return new_state_dict"
   ]
  },
  {
   "cell_type": "markdown",
   "metadata": {},
   "source": [
    "# draft"
   ]
  },
  {
   "cell_type": "code",
   "execution_count": 14,
   "metadata": {},
   "outputs": [],
   "source": [
    "from utils import get_inputs"
   ]
  },
  {
   "cell_type": "code",
   "execution_count": 11,
   "metadata": {},
   "outputs": [],
   "source": [
    "model = ResnetMoE(**moe_config.__dict__)"
   ]
  },
  {
   "cell_type": "code",
   "execution_count": 12,
   "metadata": {},
   "outputs": [],
   "source": [
    "model = model.to(device)"
   ]
  },
  {
   "cell_type": "code",
   "execution_count": 13,
   "metadata": {},
   "outputs": [],
   "source": [
    "train_dl = dataloader.get_train_dataloader()"
   ]
  },
  {
   "cell_type": "code",
   "execution_count": 15,
   "metadata": {},
   "outputs": [],
   "source": [
    "for batch in (train_dl):\n",
    "    raw, exam_id, label = batch\n",
    "    ecg = get_inputs(raw).to(device)\n",
    "    break"
   ]
  },
  {
   "cell_type": "code",
   "execution_count": 16,
   "metadata": {},
   "outputs": [],
   "source": [
    "logits = model.forward(ecg)"
   ]
  },
  {
   "cell_type": "code",
   "execution_count": 18,
   "metadata": {},
   "outputs": [
    {
     "data": {
      "text/plain": [
       "torch.Size([2, 6])"
      ]
     },
     "execution_count": 18,
     "metadata": {},
     "output_type": "execute_result"
    }
   ],
   "source": [
    "logits.shape"
   ]
  },
  {
   "cell_type": "code",
   "execution_count": null,
   "metadata": {},
   "outputs": [],
   "source": []
  }
 ],
 "metadata": {
  "kernelspec": {
   "display_name": "clip",
   "language": "python",
   "name": "python3"
  },
  "language_info": {
   "codemirror_mode": {
    "name": "ipython",
    "version": 3
   },
   "file_extension": ".py",
   "mimetype": "text/x-python",
   "name": "python",
   "nbconvert_exporter": "python",
   "pygments_lexer": "ipython3",
   "version": "3.8.8"
  }
 },
 "nbformat": 4,
 "nbformat_minor": 2
}
