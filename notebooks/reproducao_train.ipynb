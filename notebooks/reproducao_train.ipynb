{
 "cells": [
  {
   "cell_type": "markdown",
   "metadata": {},
   "source": [
    "# setup"
   ]
  },
  {
   "cell_type": "code",
   "execution_count": 1,
   "metadata": {},
   "outputs": [],
   "source": [
    "import torch\n",
    "import torch.nn as nn\n",
    "import os"
   ]
  },
  {
   "cell_type": "code",
   "execution_count": 2,
   "metadata": {},
   "outputs": [],
   "source": [
    "if os.getcwd().split('/')[-1] == 'notebooks':\n",
    "    os.chdir('..')\n",
    "\n",
    "# from configs.gate import LoadDataConfig, Downstream_cnn_args\n",
    "from configs.fake import LoadDataConfig, Downstream_cnn_args\n",
    "from data.load_data import LoadData\n",
    "from models.baseline import ResnetBaseline\n",
    "from utils import train, eval, plot_log, export"
   ]
  },
  {
   "cell_type": "markdown",
   "metadata": {},
   "source": [
    "# init"
   ]
  },
  {
   "cell_type": "code",
   "execution_count": 3,
   "metadata": {},
   "outputs": [],
   "source": [
    "model_label = 'gate'"
   ]
  },
  {
   "cell_type": "code",
   "execution_count": 4,
   "metadata": {},
   "outputs": [],
   "source": [
    "loader_config = LoadDataConfig()\n",
    "resnet_config = Downstream_cnn_args()"
   ]
  },
  {
   "cell_type": "code",
   "execution_count": 5,
   "metadata": {},
   "outputs": [
    {
     "name": "stdout",
     "output_type": "stream",
     "text": [
      "--> WARNING: USING RANDOM FAKE DATA!!\n"
     ]
    }
   ],
   "source": [
    "dataloader = LoadData(**loader_config.__dict__)\n",
    "model = ResnetBaseline(**resnet_config.__dict__)\n",
    "\n",
    "device = torch.device('cuda' if torch.cuda.is_available() else 'cpu')\n",
    "\n",
    "EPOCHS = 5"
   ]
  },
  {
   "cell_type": "markdown",
   "metadata": {},
   "source": [
    "# train"
   ]
  },
  {
   "cell_type": "code",
   "execution_count": 6,
   "metadata": {},
   "outputs": [],
   "source": [
    "model = model.to(device)\n",
    "criterion = nn.BCEWithLogitsLoss()\n",
    "optimizer = torch.optim.AdamW(model.parameters(), lr=3e-4)"
   ]
  },
  {
   "cell_type": "code",
   "execution_count": 7,
   "metadata": {},
   "outputs": [
    {
     "name": "stderr",
     "output_type": "stream",
     "text": [
      "  0%|          | 0/2 [00:00<?, ?it/s]"
     ]
    },
    {
     "name": "stderr",
     "output_type": "stream",
     "text": [
      "100%|██████████| 2/2 [00:00<00:00,  5.11it/s]\n",
      "100%|██████████| 1/1 [00:00<00:00, 32.35it/s]\n",
      "100%|██████████| 2/2 [00:00<00:00, 43.07it/s]\n",
      "100%|██████████| 1/1 [00:00<00:00, 200.37it/s]"
     ]
    },
    {
     "name": "stdout",
     "output_type": "stream",
     "text": [
      "exporting partial model at epoch 0\n"
     ]
    },
    {
     "name": "stderr",
     "output_type": "stream",
     "text": [
      "\n",
      "100%|██████████| 2/2 [00:00<00:00, 57.88it/s]\n",
      "100%|██████████| 1/1 [00:00<00:00, 217.00it/s]\n",
      "  0%|          | 0/2 [00:00<?, ?it/s]"
     ]
    },
    {
     "name": "stdout",
     "output_type": "stream",
     "text": [
      "exporting partial model at epoch 1\n",
      "exporting partial model at epoch 2\n"
     ]
    },
    {
     "name": "stderr",
     "output_type": "stream",
     "text": [
      "100%|██████████| 2/2 [00:00<00:00, 43.77it/s]\n",
      "100%|██████████| 1/1 [00:00<00:00, 217.04it/s]\n",
      "100%|██████████| 2/2 [00:00<00:00, 57.86it/s]\n",
      "100%|██████████| 1/1 [00:00<00:00, 201.26it/s]\n"
     ]
    },
    {
     "name": "stdout",
     "output_type": "stream",
     "text": [
      "exporting partial model at epoch 3\n",
      "exporting partial model at epoch 4\n"
     ]
    }
   ],
   "source": [
    "log = []\n",
    "for epoch in range(EPOCHS):\n",
    "    train_dl, val_dl = dataloader.get_train_dataloader(), dataloader.get_val_dataloader()\n",
    "\n",
    "    train_log = train(model, train_dl, optimizer, criterion, device)\n",
    "    val_log = eval(model, val_dl, criterion, device)\n",
    "    plot_log(train_log, val_log, epoch = epoch)\n",
    "    export(model, model_label, epoch)"
   ]
  },
  {
   "cell_type": "code",
   "execution_count": 8,
   "metadata": {},
   "outputs": [],
   "source": [
    "torch.save(model, 'output/{}.pt'.format(model_label))"
   ]
  }
 ],
 "metadata": {
  "kernelspec": {
   "display_name": "clip",
   "language": "python",
   "name": "python3"
  },
  "language_info": {
   "codemirror_mode": {
    "name": "ipython",
    "version": 3
   },
   "file_extension": ".py",
   "mimetype": "text/x-python",
   "name": "python",
   "nbconvert_exporter": "python",
   "pygments_lexer": "ipython3",
   "version": "3.8.8"
  }
 },
 "nbformat": 4,
 "nbformat_minor": 2
}
